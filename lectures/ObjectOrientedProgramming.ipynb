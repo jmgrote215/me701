{
 "cells": [
  {
   "cell_type": "markdown",
   "metadata": {
    "slideshow": {
     "slide_type": "slide"
    }
   },
   "source": [
    "# Object-Oriented Programming\n",
    "\n",
    "We'll explore OO programming in Python, focusing on the basic ideas (classes vs objects, encapsulation, inheritance, polymorphism), syntactical quirks, and how to pull it all together to solve complex problems."
   ]
  },
  {
   "cell_type": "markdown",
   "metadata": {
    "slideshow": {
     "slide_type": "subslide"
    }
   },
   "source": [
    "## Required Preparation\n",
    "\n",
    " - Read the online chapters [Classes](https://python-textbok.readthedocs.io/en/1.0/Classes.html)\n",
    "   and [Object Oriented Programming](https://python-textbok.readthedocs.io/en/1.0/Object_Oriented_Programming.html)\n",
    " "
   ]
  },
  {
   "cell_type": "markdown",
   "metadata": {
    "slideshow": {
     "slide_type": "slide"
    }
   },
   "source": [
    "## Four Fundamental Features\n",
    "\n",
    "1. encapsulation\n",
    "2. methods (functions)\n",
    "3. inheritance\n",
    "4. polymorphism\n",
    "\n",
    "Features 1, 2, and 3 are implemented in Python explicitly; Feature 4 is sort of there by default."
   ]
  },
  {
   "cell_type": "markdown",
   "metadata": {
    "slideshow": {
     "slide_type": "subslide"
    }
   },
   "source": [
    "First, *everything* in Python is an *object* of a *class*:"
   ]
  },
  {
   "cell_type": "code",
   "execution_count": 9,
   "metadata": {
    "slideshow": {
     "slide_type": "fragment"
    }
   },
   "outputs": [
    {
     "data": {
      "text/plain": [
       "complex"
      ]
     },
     "execution_count": 9,
     "metadata": {},
     "output_type": "execute_result"
    }
   ],
   "source": [
    "c = 1 + 1j\n",
    "c.__class__ # go try in type(a) in IDLE\n",
    "type(c)\n",
    "a = 1. #something about a literal\n",
    "b = 1j\n",
    "c = a + b\n",
    "type(c)"
   ]
  },
  {
   "cell_type": "markdown",
   "metadata": {
    "slideshow": {
     "slide_type": "subslide"
    }
   },
   "source": [
    "Objects have *attributes* accessed through the `.` operator:"
   ]
  },
  {
   "cell_type": "code",
   "execution_count": 10,
   "metadata": {
    "slideshow": {
     "slide_type": "fragment"
    }
   },
   "outputs": [
    {
     "data": {
      "text/plain": [
       "1.0"
      ]
     },
     "execution_count": 10,
     "metadata": {},
     "output_type": "execute_result"
    }
   ],
   "source": [
    "c.imag"
   ]
  },
  {
   "cell_type": "code",
   "execution_count": 11,
   "metadata": {
    "slideshow": {
     "slide_type": "fragment"
    }
   },
   "outputs": [
    {
     "name": "stdout",
     "output_type": "stream",
     "text": [
      "3\n"
     ]
    }
   ],
   "source": [
    "def foo(x):\n",
    "    print(x + foo.a) # whoa! what's foo.a\n",
    "foo.a = 1\n",
    "foo(2)"
   ]
  },
  {
   "cell_type": "markdown",
   "metadata": {
    "slideshow": {
     "slide_type": "subslide"
    }
   },
   "source": [
    "## Classes \n",
    "\n",
    "A `class` does one or both of the following: it **encapsulates data** and it provides **methods** for doing things with that data.\n",
    "\n",
    "Basic structure:\n",
    "\n",
    "```python\n",
    "class Foo:\n",
    "    \"\"\"Always document your classes!\"\"\"\n",
    "    \n",
    "    # \"static\" attributes\n",
    "    a = 1\n",
    "    \n",
    "    def method1(self, arg1, ...):\n",
    "        \"\"\"Always document your methods!\"\"\"\n",
    "        do stuff\n",
    "        return stuff\n",
    "\n",
    "    def method2(self, arg1, ...):\n",
    "        \"\"\"Always document your methods!\"\"\"    \n",
    "        do different stuff\n",
    "        return different stuff\n",
    "```"
   ]
  },
  {
   "cell_type": "code",
   "execution_count": 36,
   "metadata": {
    "slideshow": {
     "slide_type": "subslide"
    }
   },
   "outputs": [],
   "source": [
    "class Complex:\n",
    "    def __init__(self, r, i):\n",
    "        #print('making a complex')\n",
    "        self.r = r \n",
    "        self.i = i\n",
    "        #self.i = i*1j # makes this an imaginary number and will create problems later on in the code\n",
    "    def __add__(self, other):\n",
    "        \"\"\"this dunder is one of many\"\"\"\n",
    "        real = self.r + other.r\n",
    "        imag = self.i + other.i\n",
    "        nnum = Complex(real,imag)\n",
    "        return nnum\n",
    "        #somethign about operator overload\n",
    "    def __str__(self):\n",
    "        return 'hahaha' #gives back any string representation you want"
   ]
  },
  {
   "cell_type": "code",
   "execution_count": 37,
   "metadata": {
    "slideshow": {
     "slide_type": "fragment"
    }
   },
   "outputs": [
    {
     "name": "stdout",
     "output_type": "stream",
     "text": [
      "making a complex\n",
      "hahaha\n",
      "1 1\n",
      "making a complex\n",
      "making a complex\n",
      "3 2\n"
     ]
    },
    {
     "data": {
      "text/plain": [
       "<__main__.Complex at 0x7f57937ec150>"
      ]
     },
     "execution_count": 37,
     "metadata": {},
     "output_type": "execute_result"
    }
   ],
   "source": [
    "C = Complex(1, 1)\n",
    "print(C)\n",
    "print(C.r, C.i)\n",
    "\n",
    "D = Complex(2,1)\n",
    "\n",
    "E = C + D\n",
    "\n",
    "#E.__add__(D) # an equivalent statement as above\n",
    "#G = Complex.__add__(C,D)\n",
    "\n",
    "\n",
    "\n",
    "print(E.r,E.i)\n",
    "E"
   ]
  },
  {
   "cell_type": "code",
   "execution_count": 38,
   "metadata": {
    "slideshow": {
     "slide_type": "subslide"
    }
   },
   "outputs": [],
   "source": [
    "class Complex:\n",
    "    def __init__(self, r, i):\n",
    "        self.r = r \n",
    "        self.i = i*1j\n",
    "    def real(self):\n",
    "        return self.r\n",
    "    def imag(self):\n",
    "        return self.i"
   ]
  },
  {
   "cell_type": "code",
   "execution_count": 39,
   "metadata": {
    "slideshow": {
     "slide_type": "fragment"
    }
   },
   "outputs": [
    {
     "name": "stdout",
     "output_type": "stream",
     "text": [
      "1 1j\n"
     ]
    }
   ],
   "source": [
    "C = Complex(1, 1)\n",
    "print(C.real(), C.imag())"
   ]
  },
  {
   "cell_type": "code",
   "execution_count": 40,
   "metadata": {
    "slideshow": {
     "slide_type": "subslide"
    }
   },
   "outputs": [],
   "source": [
    "class Complex:\n",
    "    def __init__(self, r, i):\n",
    "        self.__r = r \n",
    "        self.__i = i*1j\n",
    "    @property #this is called a decorator, meaning i have a function called r that does stuff. __r\n",
    "    def r(self):\n",
    "        return self.__r\n",
    "    @property\n",
    "    def i(self):\n",
    "        return self.__i\n",
    "    \n",
    "    #the double underscore defined by us, it obfuscates the name. doesnt make private, but makes it hard to get to"
   ]
  },
  {
   "cell_type": "code",
   "execution_count": 42,
   "metadata": {
    "slideshow": {
     "slide_type": "fragment"
    }
   },
   "outputs": [
    {
     "name": "stdout",
     "output_type": "stream",
     "text": [
      "1 1j\n"
     ]
    },
    {
     "ename": "AttributeError",
     "evalue": "can't set attribute",
     "output_type": "error",
     "traceback": [
      "\u001b[0;31m---------------------------------------------------------------------------\u001b[0m",
      "\u001b[0;31mAttributeError\u001b[0m                            Traceback (most recent call last)",
      "\u001b[0;32m<ipython-input-42-f73672b3340e>\u001b[0m in \u001b[0;36m<module>\u001b[0;34m\u001b[0m\n\u001b[1;32m      1\u001b[0m \u001b[0mC\u001b[0m \u001b[0;34m=\u001b[0m \u001b[0mComplex\u001b[0m\u001b[0;34m(\u001b[0m\u001b[0;36m1\u001b[0m\u001b[0;34m,\u001b[0m \u001b[0;36m1\u001b[0m\u001b[0;34m)\u001b[0m\u001b[0;34m\u001b[0m\u001b[0;34m\u001b[0m\u001b[0m\n\u001b[1;32m      2\u001b[0m \u001b[0mprint\u001b[0m\u001b[0;34m(\u001b[0m\u001b[0mC\u001b[0m\u001b[0;34m.\u001b[0m\u001b[0mr\u001b[0m\u001b[0;34m,\u001b[0m \u001b[0mC\u001b[0m\u001b[0;34m.\u001b[0m\u001b[0mi\u001b[0m\u001b[0;34m)\u001b[0m \u001b[0;31m#C.r will only retrun its value, and keeps the user from accessing it\u001b[0m\u001b[0;34m\u001b[0m\u001b[0;34m\u001b[0m\u001b[0m\n\u001b[0;32m----> 3\u001b[0;31m \u001b[0mC\u001b[0m\u001b[0;34m.\u001b[0m\u001b[0mr\u001b[0m \u001b[0;34m=\u001b[0m \u001b[0;36m3\u001b[0m\u001b[0;34m\u001b[0m\u001b[0;34m\u001b[0m\u001b[0m\n\u001b[0m",
      "\u001b[0;31mAttributeError\u001b[0m: can't set attribute"
     ]
    }
   ],
   "source": [
    "C = Complex(1, 1)\n",
    "print(C.r, C.i) #C.r will only retrun its value, and keeps the user from accessing it\n",
    "C.r = 3"
   ]
  },
  {
   "cell_type": "code",
   "execution_count": null,
   "metadata": {
    "slideshow": {
     "slide_type": "fragment"
    }
   },
   "outputs": [],
   "source": [
    "C.__r"
   ]
  },
  {
   "cell_type": "markdown",
   "metadata": {
    "slideshow": {
     "slide_type": "fragment"
    }
   },
   "source": [
    "Hence, the attribute is \"hidden\" (truly encapsulated), but can it be modified?"
   ]
  },
  {
   "cell_type": "code",
   "execution_count": null,
   "metadata": {
    "slideshow": {
     "slide_type": "subslide"
    }
   },
   "outputs": [],
   "source": [
    "C.r = 1"
   ]
  },
  {
   "cell_type": "markdown",
   "metadata": {
    "slideshow": {
     "slide_type": "slide"
    }
   },
   "source": [
    "## Operator Overloading\n",
    "\n",
    "Consider a `Point` class, representing a point `(x, y)` in the plane:"
   ]
  },
  {
   "cell_type": "code",
   "execution_count": 1,
   "metadata": {
    "slideshow": {
     "slide_type": "fragment"
    }
   },
   "outputs": [],
   "source": [
    "class Point:\n",
    "    def __init__(self, x, y) :\n",
    "        self.__x, self.__y = x, y\n",
    "    @property\n",
    "    def x(self):\n",
    "        return self.__x\n",
    "    @property\n",
    "    def y(self):\n",
    "        return self.__y"
   ]
  },
  {
   "cell_type": "markdown",
   "metadata": {
    "slideshow": {
     "slide_type": "subslide"
    }
   },
   "source": [
    "Adding two points $(1, 1)$ and $(2, 3)$ should lead to $(3, 4)$."
   ]
  },
  {
   "cell_type": "code",
   "execution_count": null,
   "metadata": {
    "slideshow": {
     "slide_type": "fragment"
    }
   },
   "outputs": [],
   "source": [
    "P1 = Point(1, 1)\n",
    "P2 = Point(2, 3)"
   ]
  },
  {
   "cell_type": "code",
   "execution_count": null,
   "metadata": {
    "slideshow": {
     "slide_type": "fragment"
    }
   },
   "outputs": [],
   "source": [
    "P1 + P2"
   ]
  },
  {
   "cell_type": "markdown",
   "metadata": {},
   "source": [
    "Solution: overload the `+` operator by"
   ]
  },
  {
   "cell_type": "code",
   "execution_count": null,
   "metadata": {},
   "outputs": [],
   "source": [
    "class Point:\n",
    "    def __init__(self, x, y) :\n",
    "        self.__x, self.__y = x, y\n",
    "    @property\n",
    "    def x(self):\n",
    "        return self.__x\n",
    "    @property\n",
    "    def y(self):\n",
    "        return self.__y\n",
    "    def __add__(self, P):\n",
    "        return Point(self.x+P.x, self.y+P.y)"
   ]
  },
  {
   "cell_type": "code",
   "execution_count": null,
   "metadata": {},
   "outputs": [],
   "source": [
    "P1, P2 = Point(1, 1), Point(2, 3)\n",
    "P3 = P1 + P2\n",
    "P3.x, P3.y"
   ]
  },
  {
   "cell_type": "markdown",
   "metadata": {
    "slideshow": {
     "slide_type": "slide"
    }
   },
   "source": [
    "## Inheritance"
   ]
  },
  {
   "cell_type": "code",
   "execution_count": 2,
   "metadata": {
    "slideshow": {
     "slide_type": "subslide"
    }
   },
   "outputs": [],
   "source": [
    "import math\n",
    "\n",
    "class Parallelogram:\n",
    "    \n",
    "    def __init__(self, side1, side2, small_angle):\n",
    "        print(\">>>making a parallelogram\")\n",
    "        self.side1 = side1\n",
    "        self.side2 = side2\n",
    "        self.small_angle = small_angle\n",
    "        # do some sort of check to make sure I'm valid?\n",
    "    \n",
    "    def area(self):\n",
    "        print(\"computing parallelogram area\")\n",
    "        return math.sin(self.small_angle)*self.side1*self.side2\n",
    "    \n",
    "    def some_pure_virtual_method(self):\n",
    "        #pure means it has to be implemeted. useful becuase: \n",
    "        #mammal is just a concept. there is no abstract mammal. but we are all mammals. abstract is pure virtual\n",
    "        #sort of. the Shapes class example is probably better for this concept\n",
    "        raise NotImplementedError\n",
    "        \n",
    "    def __str__(self):\n",
    "        return \"I'm a parallelogram\"\n",
    "    \n",
    "class Rectangle(Parallelogram):\n",
    "    \n",
    "    def __init__(self, side1, side2):\n",
    "        print(\">>making a rectangle\")\n",
    "        super(Rectangle, self).__init__(side1, side2, math.pi/2)\n",
    "        \n",
    "    def some_pure_virtual_method(self):\n",
    "        print('okay, I implemented it now!')\n",
    "        \n",
    "    def __str__(self):\n",
    "        return \"I'm a rectangle\"\n",
    "    \n",
    "class Square(Rectangle):\n",
    "    #why use an angle for something that is straight 90 degrees. this is specialization\n",
    "    def __init__(self, side):\n",
    "        print(\">making a square\")\n",
    "        super(Square, self).__init__(side, side)\n",
    "        \n",
    "    #def __str__(self):\n",
    "    #    return \"I'm a square\""
   ]
  },
  {
   "cell_type": "code",
   "execution_count": 7,
   "metadata": {},
   "outputs": [
    {
     "name": "stdout",
     "output_type": "stream",
     "text": [
      "________________\n",
      ">>>making a parallelogram\n",
      "computing parallelogram area\n",
      "2.0\n",
      "I'm a parallelogram\n"
     ]
    },
    {
     "ename": "NotImplementedError",
     "evalue": "",
     "output_type": "error",
     "traceback": [
      "\u001b[0;31m---------------------------------------------------------------------------\u001b[0m",
      "\u001b[0;31mNotImplementedError\u001b[0m                       Traceback (most recent call last)",
      "\u001b[0;32m<ipython-input-7-e5df474d35d3>\u001b[0m in \u001b[0;36m<module>\u001b[0;34m\u001b[0m\n\u001b[1;32m      3\u001b[0m \u001b[0mprint\u001b[0m\u001b[0;34m(\u001b[0m\u001b[0mP\u001b[0m\u001b[0;34m.\u001b[0m\u001b[0marea\u001b[0m\u001b[0;34m(\u001b[0m\u001b[0;34m)\u001b[0m\u001b[0;34m)\u001b[0m\u001b[0;34m\u001b[0m\u001b[0;34m\u001b[0m\u001b[0m\n\u001b[1;32m      4\u001b[0m \u001b[0mprint\u001b[0m\u001b[0;34m(\u001b[0m\u001b[0mP\u001b[0m\u001b[0;34m)\u001b[0m\u001b[0;34m\u001b[0m\u001b[0;34m\u001b[0m\u001b[0m\n\u001b[0;32m----> 5\u001b[0;31m \u001b[0mP\u001b[0m\u001b[0;34m.\u001b[0m\u001b[0msome_pure_virtual_method\u001b[0m\u001b[0;34m(\u001b[0m\u001b[0;34m)\u001b[0m\u001b[0;34m\u001b[0m\u001b[0;34m\u001b[0m\u001b[0m\n\u001b[0m",
      "\u001b[0;32m<ipython-input-2-e160acbff15b>\u001b[0m in \u001b[0;36msome_pure_virtual_method\u001b[0;34m(self)\u001b[0m\n\u001b[1;32m     15\u001b[0m \u001b[0;34m\u001b[0m\u001b[0m\n\u001b[1;32m     16\u001b[0m     \u001b[0;32mdef\u001b[0m \u001b[0msome_pure_virtual_method\u001b[0m\u001b[0;34m(\u001b[0m\u001b[0mself\u001b[0m\u001b[0;34m)\u001b[0m\u001b[0;34m:\u001b[0m\u001b[0;34m\u001b[0m\u001b[0;34m\u001b[0m\u001b[0m\n\u001b[0;32m---> 17\u001b[0;31m         \u001b[0;32mraise\u001b[0m \u001b[0mNotImplementedError\u001b[0m\u001b[0;34m\u001b[0m\u001b[0;34m\u001b[0m\u001b[0m\n\u001b[0m\u001b[1;32m     18\u001b[0m \u001b[0;34m\u001b[0m\u001b[0m\n\u001b[1;32m     19\u001b[0m     \u001b[0;32mdef\u001b[0m \u001b[0m__str__\u001b[0m\u001b[0;34m(\u001b[0m\u001b[0mself\u001b[0m\u001b[0;34m)\u001b[0m\u001b[0;34m:\u001b[0m\u001b[0;34m\u001b[0m\u001b[0;34m\u001b[0m\u001b[0m\n",
      "\u001b[0;31mNotImplementedError\u001b[0m: "
     ]
    }
   ],
   "source": [
    "print('________________')\n",
    "P = Parallelogram(1,2, math.pi/2)\n",
    "print(P.area())\n",
    "print(P)\n",
    "P.some_pure_virtual_method()"
   ]
  },
  {
   "cell_type": "code",
   "execution_count": 3,
   "metadata": {
    "slideshow": {
     "slide_type": "subslide"
    }
   },
   "outputs": [
    {
     "name": "stdout",
     "output_type": "stream",
     "text": [
      "------\n",
      ">>>making a parallelogram\n",
      "computing parallelogram area\n",
      "2.0\n",
      "I'm a parallelogram\n",
      "------\n",
      ">>making a rectangle\n",
      ">>>making a parallelogram\n",
      "computing parallelogram area\n",
      "2.0\n",
      "I'm a rectangle\n",
      "------\n",
      ">making a square\n",
      ">>making a rectangle\n",
      ">>>making a parallelogram\n",
      "computing parallelogram area\n",
      "4.0\n",
      "I'm a rectangle\n",
      "------\n"
     ]
    }
   ],
   "source": [
    "print('------')\n",
    "P = Parallelogram(1, 2, math.pi/2)\n",
    "print(P.area())\n",
    "print(P)\n",
    "print('------')\n",
    "R = Rectangle(1, 2)\n",
    "print(R.area())\n",
    "print(R)\n",
    "print('------')\n",
    "S = Square(2)\n",
    "print(S.area())\n",
    "print(S)\n",
    "print('------')"
   ]
  },
  {
   "cell_type": "markdown",
   "metadata": {
    "slideshow": {
     "slide_type": "subslide"
    }
   },
   "source": [
    "Confirming inheritance works:"
   ]
  },
  {
   "cell_type": "code",
   "execution_count": null,
   "metadata": {
    "slideshow": {
     "slide_type": "fragment"
    }
   },
   "outputs": [],
   "source": [
    "isinstance(P, Parallelogram)"
   ]
  },
  {
   "cell_type": "code",
   "execution_count": null,
   "metadata": {
    "slideshow": {
     "slide_type": "fragment"
    }
   },
   "outputs": [],
   "source": [
    "isinstance(R, Parallelogram), isinstance(R, Square)"
   ]
  },
  {
   "cell_type": "code",
   "execution_count": null,
   "metadata": {
    "slideshow": {
     "slide_type": "fragment"
    }
   },
   "outputs": [],
   "source": [
    "isinstance(S, Parallelogram), isinstance(S, Rectangle)"
   ]
  },
  {
   "cell_type": "markdown",
   "metadata": {
    "slideshow": {
     "slide_type": "subslide"
    }
   },
   "source": [
    "What about **abstract** classes?  Or "
   ]
  },
  {
   "cell_type": "code",
   "execution_count": null,
   "metadata": {
    "slideshow": {
     "slide_type": "fragment"
    }
   },
   "outputs": [],
   "source": [
    "P.some_pure_virtual_method()"
   ]
  },
  {
   "cell_type": "code",
   "execution_count": null,
   "metadata": {
    "slideshow": {
     "slide_type": "fragment"
    }
   },
   "outputs": [],
   "source": [
    "S.some_pure_virtual_method()"
   ]
  }
 ],
 "metadata": {
  "celltoolbar": "Slideshow",
  "kernelspec": {
   "display_name": "Python 3",
   "language": "python",
   "name": "python3"
  },
  "language_info": {
   "codemirror_mode": {
    "name": "ipython",
    "version": 3
   },
   "file_extension": ".py",
   "mimetype": "text/x-python",
   "name": "python",
   "nbconvert_exporter": "python",
   "pygments_lexer": "ipython3",
   "version": "3.7.11"
  },
  "livereveal": {
   "scroll": true
  }
 },
 "nbformat": 4,
 "nbformat_minor": 2
}
